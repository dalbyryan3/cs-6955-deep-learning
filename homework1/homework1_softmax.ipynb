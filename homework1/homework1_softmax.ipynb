version https://git-lfs.github.com/spec/v1
oid sha256:61174f57258741b815773f5ed716ab262bffad8a7f0908a2f9e2a4d180b895f2
size 153811
